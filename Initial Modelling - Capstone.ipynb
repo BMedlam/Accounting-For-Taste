{
 "cells": [
  {
   "cell_type": "markdown",
   "id": "ce3bb6a9",
   "metadata": {},
   "source": [
    "# Capstone Workbook 4: Initial Modelling"
   ]
  },
  {
   "cell_type": "code",
   "execution_count": 1,
   "id": "671e11e2",
   "metadata": {},
   "outputs": [],
   "source": [
    "# Import libraries\n",
    "import pandas as pd\n",
    "import numpy as np\n",
    "\n",
    "import matplotlib.pyplot as plt\n",
    "import seaborn as sns"
   ]
  },
  {
   "cell_type": "code",
   "execution_count": 2,
   "id": "33db8546",
   "metadata": {},
   "outputs": [],
   "source": [
    "# Import data \n",
    "airbnb_ldn = pd.read_csv('airbnb_ldn_final.csv')"
   ]
  },
  {
   "cell_type": "markdown",
   "id": "d1ed033d",
   "metadata": {},
   "source": [
    "The data has now been cleaned, had some initial EDA completed and been preprocessed. \n",
    "\n",
    "Some initial models will now be built, starting with a linear regression model."
   ]
  }
 ],
 "metadata": {
  "kernelspec": {
   "display_name": "Python 3 (ipykernel)",
   "language": "python",
   "name": "python3"
  },
  "language_info": {
   "codemirror_mode": {
    "name": "ipython",
    "version": 3
   },
   "file_extension": ".py",
   "mimetype": "text/x-python",
   "name": "python",
   "nbconvert_exporter": "python",
   "pygments_lexer": "ipython3",
   "version": "3.8.18"
  }
 },
 "nbformat": 4,
 "nbformat_minor": 5
}
