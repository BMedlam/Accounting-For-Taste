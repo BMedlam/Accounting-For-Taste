{
 "cells": [
  {
   "cell_type": "code",
   "execution_count": 1,
   "id": "ffea00c9",
   "metadata": {},
   "outputs": [],
   "source": [
    "import pandas as pd"
   ]
  },
  {
   "cell_type": "code",
   "execution_count": 2,
   "id": "c65ef50b",
   "metadata": {},
   "outputs": [],
   "source": [
    "# Example DataFrame\n",
    "data = {'ID': [1, 2, 3],\n",
    "        'Features': [['ABC', 'DEF'], ['DEF', 'GHIJ', 'KLMN'], ['ABC', 'KLMN', 'OPQR']]}\n",
    "df = pd.DataFrame(data)\n",
    "\n"
   ]
  },
  {
   "cell_type": "code",
   "execution_count": 3,
   "id": "d65d35cc",
   "metadata": {},
   "outputs": [
    {
     "data": {
      "text/html": [
       "<div>\n",
       "<style scoped>\n",
       "    .dataframe tbody tr th:only-of-type {\n",
       "        vertical-align: middle;\n",
       "    }\n",
       "\n",
       "    .dataframe tbody tr th {\n",
       "        vertical-align: top;\n",
       "    }\n",
       "\n",
       "    .dataframe thead th {\n",
       "        text-align: right;\n",
       "    }\n",
       "</style>\n",
       "<table border=\"1\" class=\"dataframe\">\n",
       "  <thead>\n",
       "    <tr style=\"text-align: right;\">\n",
       "      <th></th>\n",
       "      <th>ID</th>\n",
       "      <th>Features</th>\n",
       "    </tr>\n",
       "  </thead>\n",
       "  <tbody>\n",
       "    <tr>\n",
       "      <th>0</th>\n",
       "      <td>1</td>\n",
       "      <td>[ABC, DEF]</td>\n",
       "    </tr>\n",
       "    <tr>\n",
       "      <th>1</th>\n",
       "      <td>2</td>\n",
       "      <td>[DEF, GHIJ, KLMN]</td>\n",
       "    </tr>\n",
       "    <tr>\n",
       "      <th>2</th>\n",
       "      <td>3</td>\n",
       "      <td>[ABC, KLMN, OPQR]</td>\n",
       "    </tr>\n",
       "  </tbody>\n",
       "</table>\n",
       "</div>"
      ],
      "text/plain": [
       "   ID           Features\n",
       "0   1         [ABC, DEF]\n",
       "1   2  [DEF, GHIJ, KLMN]\n",
       "2   3  [ABC, KLMN, OPQR]"
      ]
     },
     "execution_count": 3,
     "metadata": {},
     "output_type": "execute_result"
    }
   ],
   "source": [
    "df"
   ]
  },
  {
   "cell_type": "code",
   "execution_count": 5,
   "id": "16c38ba1",
   "metadata": {},
   "outputs": [],
   "source": [
    "# Get unique features from all rows\n",
    "unique_features = set([feature for sublist in df['Features'] for feature in sublist])\n"
   ]
  },
  {
   "cell_type": "code",
   "execution_count": 6,
   "id": "e9b09de1",
   "metadata": {},
   "outputs": [
    {
     "data": {
      "text/plain": [
       "{'ABC', 'DEF', 'GHIJ', 'KLMN', 'OPQR'}"
      ]
     },
     "execution_count": 6,
     "metadata": {},
     "output_type": "execute_result"
    }
   ],
   "source": [
    "unique_features"
   ]
  },
  {
   "cell_type": "code",
   "execution_count": null,
   "id": "7c8b27e0",
   "metadata": {},
   "outputs": [],
   "source": [
    "\n",
    "# Add columns for each unique feature and initialize with 0\n",
    "for feature in unique_features:\n",
    "    df[feature] = 0\n",
    "\n"
   ]
  },
  {
   "cell_type": "code",
   "execution_count": null,
   "id": "475782fe",
   "metadata": {},
   "outputs": [],
   "source": [
    "# Iterate over each row and set values based on features\n",
    "for index, row in df.iterrows():\n",
    "    for feature in row['Features']:\n",
    "        df.at[index, feature] = 1"
   ]
  },
  {
   "cell_type": "code",
   "execution_count": null,
   "id": "c8e4fd92",
   "metadata": {},
   "outputs": [],
   "source": []
  },
  {
   "cell_type": "code",
   "execution_count": 7,
   "id": "1550e344",
   "metadata": {},
   "outputs": [],
   "source": [
    "import ast\n",
    "import pandas as pd\n",
    "\n"
   ]
  },
  {
   "cell_type": "code",
   "execution_count": 11,
   "id": "a7bc6a96",
   "metadata": {},
   "outputs": [],
   "source": [
    "# Example DataFrame with column containing list of features\n",
    "data = {'Features': [[\"'Wifi'\", \"'Kitchen'\", \"'TV'\", \"'Washer'\", \"'Smoke alarm'\"],\n",
    "                     [\"'Kitchen'\", \"'TV'\", \"'Washer'\"],\n",
    "                     [\"'Wifi'\", \"'TV'\", \"'Smoke alarm'\"]]}\n",
    "df = pd.DataFrame(data)\n",
    "\n"
   ]
  },
  {
   "cell_type": "code",
   "execution_count": 12,
   "id": "a8badcb1",
   "metadata": {},
   "outputs": [
    {
     "data": {
      "text/html": [
       "<div>\n",
       "<style scoped>\n",
       "    .dataframe tbody tr th:only-of-type {\n",
       "        vertical-align: middle;\n",
       "    }\n",
       "\n",
       "    .dataframe tbody tr th {\n",
       "        vertical-align: top;\n",
       "    }\n",
       "\n",
       "    .dataframe thead th {\n",
       "        text-align: right;\n",
       "    }\n",
       "</style>\n",
       "<table border=\"1\" class=\"dataframe\">\n",
       "  <thead>\n",
       "    <tr style=\"text-align: right;\">\n",
       "      <th></th>\n",
       "      <th>Features</th>\n",
       "    </tr>\n",
       "  </thead>\n",
       "  <tbody>\n",
       "    <tr>\n",
       "      <th>0</th>\n",
       "      <td>['Wifi', 'Kitchen', 'TV', 'Washer', 'Smoke ala...</td>\n",
       "    </tr>\n",
       "    <tr>\n",
       "      <th>1</th>\n",
       "      <td>['Kitchen', 'TV', 'Washer']</td>\n",
       "    </tr>\n",
       "    <tr>\n",
       "      <th>2</th>\n",
       "      <td>['Wifi', 'TV', 'Smoke alarm']</td>\n",
       "    </tr>\n",
       "  </tbody>\n",
       "</table>\n",
       "</div>"
      ],
      "text/plain": [
       "                                            Features\n",
       "0  ['Wifi', 'Kitchen', 'TV', 'Washer', 'Smoke ala...\n",
       "1                        ['Kitchen', 'TV', 'Washer']\n",
       "2                      ['Wifi', 'TV', 'Smoke alarm']"
      ]
     },
     "execution_count": 12,
     "metadata": {},
     "output_type": "execute_result"
    }
   ],
   "source": [
    "df"
   ]
  },
  {
   "cell_type": "code",
   "execution_count": 14,
   "id": "fd189174",
   "metadata": {},
   "outputs": [
    {
     "name": "stdout",
     "output_type": "stream",
     "text": [
      "<class 'pandas.core.frame.DataFrame'>\n",
      "RangeIndex: 3 entries, 0 to 2\n",
      "Data columns (total 1 columns):\n",
      " #   Column    Non-Null Count  Dtype \n",
      "---  ------    --------------  ----- \n",
      " 0   Features  3 non-null      object\n",
      "dtypes: object(1)\n",
      "memory usage: 156.0+ bytes\n"
     ]
    }
   ],
   "source": [
    "df.info()"
   ]
  },
  {
   "cell_type": "code",
   "execution_count": 13,
   "id": "5a749f38",
   "metadata": {},
   "outputs": [
    {
     "name": "stdout",
     "output_type": "stream",
     "text": [
      "[\"'Smoke alarm'\", \"'Wifi'\", \"'TV'\", \"'Kitchen'\", \"'Washer'\"]\n"
     ]
    }
   ],
   "source": [
    "# Extract individual features\n",
    "unique_features = set([feature for sublist in df['Features'] for feature in sublist])\n",
    "print(list(unique_features))"
   ]
  },
  {
   "cell_type": "code",
   "execution_count": null,
   "id": "97674019",
   "metadata": {},
   "outputs": [],
   "source": []
  }
 ],
 "metadata": {
  "kernelspec": {
   "display_name": "Python 3 (ipykernel)",
   "language": "python",
   "name": "python3"
  },
  "language_info": {
   "codemirror_mode": {
    "name": "ipython",
    "version": 3
   },
   "file_extension": ".py",
   "mimetype": "text/x-python",
   "name": "python",
   "nbconvert_exporter": "python",
   "pygments_lexer": "ipython3",
   "version": "3.11.5"
  }
 },
 "nbformat": 4,
 "nbformat_minor": 5
}
