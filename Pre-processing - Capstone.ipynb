{
 "cells": [
  {
   "cell_type": "markdown",
   "id": "ce3bb6a9",
   "metadata": {},
   "source": [
    "# Capstone Workbook 3: Pre-processing"
   ]
  },
  {
   "cell_type": "code",
   "execution_count": null,
   "id": "671e11e2",
   "metadata": {},
   "outputs": [],
   "source": [
    "# Import libraries\n",
    "import pandas as pd\n",
    "import numpy as np\n",
    "\n",
    "import matplotlib.pyplot as plt\n",
    "import seaborn as sns"
   ]
  },
  {
   "cell_type": "code",
   "execution_count": null,
   "id": "33db8546",
   "metadata": {},
   "outputs": [],
   "source": [
    "# Import data \n",
    "airbnb_ldn = pd.read_csv('airbnb_ldn_final.csv')"
   ]
  },
  {
   "cell_type": "code",
   "execution_count": null,
   "id": "870a1073",
   "metadata": {},
   "outputs": [],
   "source": [
    "airbnb_ldn.drop(columns='Unnamed: 0', inplace=True)"
   ]
  },
  {
   "cell_type": "code",
   "execution_count": null,
   "id": "d0d903f9",
   "metadata": {},
   "outputs": [],
   "source": [
    "airbnb_ldn.shape"
   ]
  },
  {
   "cell_type": "code",
   "execution_count": null,
   "id": "e9a3e39c",
   "metadata": {},
   "outputs": [],
   "source": [
    "airbnb_ldn.info()"
   ]
  },
  {
   "cell_type": "code",
   "execution_count": null,
   "id": "10030bc4",
   "metadata": {},
   "outputs": [],
   "source": [
    "# split into categorical and numerical columns\n",
    "cat_cols = airbnb_ldn.select_dtypes(include='object')\n",
    "num_cols = airbnb_ldn.select_dtypes(exclude='object')\n"
   ]
  },
  {
   "cell_type": "code",
   "execution_count": null,
   "id": "03103d25",
   "metadata": {},
   "outputs": [],
   "source": [
    "# View categorical columns\n",
    "cat_cols.head().T"
   ]
  },
  {
   "cell_type": "markdown",
   "id": "cb3bce78",
   "metadata": {},
   "source": [
    "Looking at the categorical columns, there are a couple that can immediately be identified as ones for some numerical transformation. \n",
    "\n",
    "To being with 'Airbnb Superhost' is a binary column and can thus be made numerical:"
   ]
  },
  {
   "cell_type": "code",
   "execution_count": null,
   "id": "6a722508",
   "metadata": {},
   "outputs": [],
   "source": [
    "# confirm Airbnb superhost is binary:\n",
    "airbnb_ldn['Airbnb Superhost']"
   ]
  },
  {
   "cell_type": "markdown",
   "id": "b229756d",
   "metadata": {},
   "source": [
    "The presence of two variables, f (false) and t (true) confirm the column is binary. It will now be made numerical:"
   ]
  },
  {
   "cell_type": "code",
   "execution_count": null,
   "id": "8dca09f1",
   "metadata": {},
   "outputs": [],
   "source": [
    "# made the column binary in both dataframes\n",
    "cat_cols['Airbnb Superhost'] = np.where(cat_cols['Airbnb Superhost'] == 't', 1, 0)\n",
    "airbnb_ldn['Airbnb Superhost'] = np.where(airbnb_ldn['Airbnb Superhost'] == 't', 1, 0)"
   ]
  },
  {
   "cell_type": "code",
   "execution_count": null,
   "id": "7bf08134",
   "metadata": {},
   "outputs": [],
   "source": [
    "# check conversation has worked:\n",
    "airbnb_ldn['Airbnb Superhost'].value_counts()"
   ]
  },
  {
   "cell_type": "markdown",
   "id": "376bcd84",
   "metadata": {},
   "source": [
    "Now looking at other columns with a small number of distinct values or potential for an increase in granularity. Initially identified ones:\n",
    "\n",
    "- Listing Type\n",
    "- Cancellation policy\n",
    "- Checkin time\n",
    "- Checkout time\n",
    "- Bedrooms\n",
    "\n",
    "Beginning with 'Cancellation policy':"
   ]
  },
  {
   "cell_type": "code",
   "execution_count": null,
   "id": "b853a05c",
   "metadata": {},
   "outputs": [],
   "source": [
    "# check values within cancellation policy:\n",
    "print(airbnb_ldn['Cancellation Policy'].value_counts())\n",
    "print(f\"Null values: {airbnb_ldn['Cancellation Policy'].isnull().sum()}\")"
   ]
  },
  {
   "cell_type": "markdown",
   "id": "9dee3fc8",
   "metadata": {},
   "source": [
    "The cancellation policy can be split into several main categories - New grouping : original value;\n",
    "- No policy : Null values\n",
    "- Medium : moderate, flexible, luxury_moderate\n",
    "- Strict : strict_14_with_grace_period, better_strict_with_grace_period, firm_30_strict_with_grace_period\n",
    "- Super strict : super_strict_30, super_strict_60"
   ]
  },
  {
   "cell_type": "code",
   "execution_count": null,
   "id": "3d33a75c",
   "metadata": {},
   "outputs": [],
   "source": [
    "# create mapping function to group cancellation policy data:\n",
    "def map_cancellation_policy(i):\n",
    "    if i in ['moderate', 'flexible', 'luxury_moderate']:\n",
    "        return 'medium'\n",
    "    elif i in ['strict_14_with_grace_period', 'better_strict_with_grace_period', 'firm_30_strict_with_grace_period']:\n",
    "        return 'strict'\n",
    "    elif i in ['super_strict_30', 'super_strict_60']:\n",
    "        return 'super_strict'\n",
    "    else:\n",
    "        return 'no_policy'"
   ]
  },
  {
   "cell_type": "code",
   "execution_count": null,
   "id": "7d9dbb41",
   "metadata": {},
   "outputs": [],
   "source": [
    "# apply function to dataframe\n",
    "airbnb_ldn['Cancellation Policy'] = airbnb_ldn['Cancellation Policy'].map(map_cancellation_policy)"
   ]
  },
  {
   "cell_type": "code",
   "execution_count": null,
   "id": "9258dd01",
   "metadata": {},
   "outputs": [],
   "source": [
    "# check appropriate transformation has been applied\n",
    "airbnb_ldn['Cancellation Policy'].value_counts()"
   ]
  },
  {
   "cell_type": "markdown",
   "id": "bb14287e",
   "metadata": {},
   "source": [
    "The 'Cancellation Policy' column will now be one-hot encoded:"
   ]
  },
  {
   "cell_type": "code",
   "execution_count": null,
   "id": "065b103a",
   "metadata": {},
   "outputs": [],
   "source": [
    "airbnb_ldn = pd.get_dummies(airbnb_ldn, columns = ['Cancellation Policy'])"
   ]
  },
  {
   "cell_type": "code",
   "execution_count": null,
   "id": "0a701807",
   "metadata": {},
   "outputs": [],
   "source": [
    "airbnb_ldn.columns"
   ]
  },
  {
   "cell_type": "code",
   "execution_count": null,
   "id": "95522668",
   "metadata": {},
   "outputs": [],
   "source": [
    "# change from 'bool' to 'int' datatype:\n",
    "for col in ['Cancellation Policy_medium', 'Cancellation Policy_no_policy', 'Cancellation Policy_strict', 'Cancellation Policy_super_strict']:\n",
    "    airbnb_ldn[col] = airbnb_ldn[col].astype(int)"
   ]
  },
  {
   "cell_type": "markdown",
   "id": "e14b04d4",
   "metadata": {},
   "source": [
    "The next column to transform will be the checkin time column, the number of distinct values will  be found:"
   ]
  },
  {
   "cell_type": "code",
   "execution_count": null,
   "id": "efa102fc",
   "metadata": {},
   "outputs": [],
   "source": [
    "# check number of distinct values in the dataframe\n",
    "airbnb_ldn['Check-in Time'].value_counts()"
   ]
  },
  {
   "cell_type": "code",
   "execution_count": null,
   "id": "ae0f27a9",
   "metadata": {},
   "outputs": [],
   "source": [
    "airbnb_ldn['Check-in Time'].isnull().sum()"
   ]
  },
  {
   "cell_type": "markdown",
   "id": "2c8b7e50",
   "metadata": {},
   "source": [
    "It can be seen that there are 160 distinct values in the 'Check-in Time' column (including nulls). This is quite a lot, hence a way or compressing these will be determined.\n",
    "\n",
    "To begin, it looks as though 'After 3: 00 PM' is the most common check-in time, there seem to be other columns that contain some element of 3pm. These will be investigated:"
   ]
  },
  {
   "cell_type": "code",
   "execution_count": null,
   "id": "ef4ccd64",
   "metadata": {},
   "outputs": [],
   "source": [
    "(airbnb_ldn[airbnb_ldn['Check-in Time'].str.contains('3', regex=True, na=False)])['Check-in Time'].value_counts()"
   ]
  },
  {
   "cell_type": "code",
   "execution_count": null,
   "id": "310fbf89",
   "metadata": {},
   "outputs": [],
   "source": [
    "(airbnb_ldn[airbnb_ldn['Check-in Time'].str.startswith(('12', '1 ', '2', '3', '4', '5'), na=False)])['Check-in Time'].value_counts()"
   ]
  },
  {
   "cell_type": "markdown",
   "id": "e16b9bda",
   "metadata": {},
   "source": [
    "**Complicated deadling with the checkin times, potentially return to at a later stage. Column will be ignored for now**"
   ]
  },
  {
   "cell_type": "markdown",
   "id": "b0ba0260",
   "metadata": {},
   "source": [
    "The next column to transform will be the check-out time column, the number of distinct values will  be found:"
   ]
  },
  {
   "cell_type": "code",
   "execution_count": null,
   "id": "f83c8100",
   "metadata": {},
   "outputs": [],
   "source": [
    "print(airbnb_ldn['Checkout Time'].value_counts())\n",
    "print(f\"Null values :  {airbnb_ldn['Checkout Time'].isnull().sum()}\")"
   ]
  },
  {
   "cell_type": "markdown",
   "id": "321a91a2",
   "metadata": {},
   "source": [
    "Looking at the 'Checkout Time' column, there are 22 distinct time categories (including nulls), these can be divided into ... sub-groups (sub-group : values)\n",
    "\n",
    "- morning : 7:00 AM, 8:00 AM, 9:00 AM, 10:00 AM, 11:00 AM\n",
    "- afternoon : 12:00 PM, 1:00 PM, 2:00 PM, 3:00 PM, 4:00 PM, 5:00 PM\n",
    "- evening : 6:00 PM, 7:00 PM, 8:00 PM, 9:00 PM \n",
    "- late : 10:00 PM, 11:00 PM, 12:00 AM, 1:00 AM\n",
    "- very_early : 1:00 AM, 2:00 AM, 3:00 AM \n",
    "- none : NaN\n",
    "\n",
    "The column will be split into the described groups:"
   ]
  },
  {
   "cell_type": "code",
   "execution_count": null,
   "id": "5334cff7",
   "metadata": {},
   "outputs": [],
   "source": [
    "# create mapping function to 'Checkout Time' data:\n",
    "def map_checkout_time(i):\n",
    "    if i in ['7:00 AM', '8:00 AM', '9:00 AM', '10:00 AM', '11:00 AM']:\n",
    "        return 'morning'\n",
    "    elif i in ['12:00 PM', '1:00 PM', '2:00 PM', '3:00 PM', '4:00 PM', '5:00 PM']:\n",
    "        return 'afternoon'\n",
    "    elif i in ['6:00 PM', '7:00 PM', '8:00 PM', '9:00 PM']:\n",
    "        return 'evening'\n",
    "    elif i in ['10:00 PM', '11:00 PM', '12:00 PM', '1:00 AM']:\n",
    "        return 'late'\n",
    "    elif i in ['1:00 AM', '2:00 AM', '3:00 AM']:\n",
    "        return 'very_early'\n",
    "    else:\n",
    "        return 'none'"
   ]
  },
  {
   "cell_type": "code",
   "execution_count": null,
   "id": "4313c2b7",
   "metadata": {},
   "outputs": [],
   "source": [
    "# apply function to dataframe\n",
    "airbnb_ldn['Checkout Time'] = airbnb_ldn['Checkout Time'].map(map_checkout_time)"
   ]
  },
  {
   "cell_type": "code",
   "execution_count": null,
   "id": "b10f8135",
   "metadata": {},
   "outputs": [],
   "source": [
    "# check the correct transformation has been applied:\n",
    "airbnb_ldn['Checkout Time'].value_counts()"
   ]
  },
  {
   "cell_type": "markdown",
   "id": "298332ca",
   "metadata": {},
   "source": [
    "These different categories can now be one-hot encoded:"
   ]
  },
  {
   "cell_type": "code",
   "execution_count": null,
   "id": "7b80e291",
   "metadata": {},
   "outputs": [],
   "source": [
    "airbnb_ldn = pd.get_dummies(airbnb_ldn, columns = ['Checkout Time'])"
   ]
  },
  {
   "cell_type": "code",
   "execution_count": null,
   "id": "d1270227",
   "metadata": {
    "scrolled": false
   },
   "outputs": [],
   "source": [
    "airbnb_ldn.head().T"
   ]
  },
  {
   "cell_type": "code",
   "execution_count": null,
   "id": "e73aa108",
   "metadata": {},
   "outputs": [],
   "source": [
    "# change the datatype to integer\n",
    "for col in ['Checkout Time_afternoon', 'Checkout Time_evening', 'Checkout Time_late', 'Checkout Time_morning', 'Checkout Time_none', 'Checkout Time_very_early']:\n",
    "    airbnb_ldn[col] = airbnb_ldn[col].astype(int)"
   ]
  },
  {
   "cell_type": "markdown",
   "id": "d59df87b",
   "metadata": {},
   "source": [
    "As shown, the 'Checkout Time' column has been split into the relevant categories.\n",
    "\n",
    "The 'Bedrooms' column will now be assessed:"
   ]
  },
  {
   "cell_type": "code",
   "execution_count": null,
   "id": "621f87a5",
   "metadata": {},
   "outputs": [],
   "source": [
    "print(airbnb_ldn['Bedrooms'].value_counts())\n",
    "print(f\"Null values: {airbnb_ldn['Bedrooms'].isnull().sum()}\")"
   ]
  },
  {
   "cell_type": "markdown",
   "id": "1c1655aa",
   "metadata": {},
   "source": [
    "There are 16 bedroom values. The 'Bedrooms' column is currently an 'object' column. This is due to the presence of 'Studio' within the columns data. For the purpose of modelling, it would be better if this column was a numerical datatype. Hence, the 'Studio' values, will be changed to the value '0.5' and the columns datatype will be converted to a 'float'.\n",
    "\n",
    "Begin with changing the 'Studio' values to '0.5':"
   ]
  },
  {
   "cell_type": "code",
   "execution_count": null,
   "id": "1cd53e7c",
   "metadata": {},
   "outputs": [],
   "source": [
    "airbnb_ldn['Bedrooms'] = airbnb_ldn['Bedrooms'].replace({'Studio' : '0.5'})"
   ]
  },
  {
   "cell_type": "markdown",
   "id": "19920823",
   "metadata": {},
   "source": [
    "The column will now be converted to a 'float' datatype:"
   ]
  },
  {
   "cell_type": "code",
   "execution_count": null,
   "id": "4201ebc5",
   "metadata": {},
   "outputs": [],
   "source": [
    "airbnb_ldn['Bedrooms'] = airbnb_ldn['Bedrooms'].astype(float)"
   ]
  },
  {
   "cell_type": "markdown",
   "id": "299c2ab3",
   "metadata": {},
   "source": [
    "The 'Listing Type' column will now be evaluted:"
   ]
  },
  {
   "cell_type": "code",
   "execution_count": null,
   "id": "269f0548",
   "metadata": {},
   "outputs": [],
   "source": [
    "airbnb_ldn['Listing Type'].unique()"
   ]
  },
  {
   "cell_type": "markdown",
   "id": "8e702491",
   "metadata": {},
   "source": [
    "Above are the four values present within the 'Listing Type' column. These can be one-hot encoded:"
   ]
  },
  {
   "cell_type": "code",
   "execution_count": null,
   "id": "32fbc9c6",
   "metadata": {},
   "outputs": [],
   "source": [
    "airbnb_ldn = pd.get_dummies(airbnb_ldn, columns = ['Listing Type'])"
   ]
  },
  {
   "cell_type": "code",
   "execution_count": null,
   "id": "22786c71",
   "metadata": {},
   "outputs": [],
   "source": [
    "# convert to numerical binary\n",
    "for col in ['Listing Type_entire_home', 'Listing Type_hotel_room', 'Listing Type_private_room', 'Listing Type_shared_room']:\n",
    "    airbnb_ldn[col] = airbnb_ldn[col].astype('int')"
   ]
  },
  {
   "cell_type": "code",
   "execution_count": null,
   "id": "884bdbaf",
   "metadata": {},
   "outputs": [],
   "source": [
    "airbnb_ldn.info()"
   ]
  },
  {
   "cell_type": "markdown",
   "id": "1cf06702",
   "metadata": {},
   "source": [
    "Looking at other binary columns. 'Pets Allowed' can be made into a binary column."
   ]
  },
  {
   "cell_type": "code",
   "execution_count": null,
   "id": "f2afdf84",
   "metadata": {},
   "outputs": [],
   "source": [
    "# convert 'pets allowed' to numerical\n",
    "airbnb_ldn['Pets Allowed'] = airbnb_ldn['Pets Allowed'].astype('int')"
   ]
  },
  {
   "cell_type": "markdown",
   "id": "9468d3a2",
   "metadata": {},
   "source": [
    "Finish data preprocessing for now and move onto creating the first model."
   ]
  },
  {
   "cell_type": "code",
   "execution_count": null,
   "id": "8338c567",
   "metadata": {},
   "outputs": [],
   "source": [
    "airbnb_ldn.head().T"
   ]
  },
  {
   "cell_type": "markdown",
   "id": "f61d1510",
   "metadata": {},
   "source": [
    "Export the preprocessed data to CSV:"
   ]
  },
  {
   "cell_type": "code",
   "execution_count": null,
   "id": "0bf33059",
   "metadata": {},
   "outputs": [],
   "source": [
    "airbnb_ldn.to_csv('airbnb_ldn_pp.csv')"
   ]
  }
 ],
 "metadata": {
  "kernelspec": {
   "display_name": "Python 3 (ipykernel)",
   "language": "python",
   "name": "python3"
  },
  "language_info": {
   "codemirror_mode": {
    "name": "ipython",
    "version": 3
   },
   "file_extension": ".py",
   "mimetype": "text/x-python",
   "name": "python",
   "nbconvert_exporter": "python",
   "pygments_lexer": "ipython3",
   "version": "3.11.5"
  }
 },
 "nbformat": 4,
 "nbformat_minor": 5
}
